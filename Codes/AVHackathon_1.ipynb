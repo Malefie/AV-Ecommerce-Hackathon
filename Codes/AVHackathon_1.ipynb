{
  "nbformat": 4,
  "nbformat_minor": 0,
  "metadata": {
    "kernelspec": {
      "name": "python3",
      "display_name": "Python 3"
    },
    "language_info": {
      "codemirror_mode": {
        "name": "ipython",
        "version": 3
      },
      "file_extension": ".py",
      "mimetype": "text/x-python",
      "name": "python",
      "nbconvert_exporter": "python",
      "pygments_lexer": "ipython3",
      "version": "3.8.2"
    },
    "colab": {
      "name": "AVHackathon-1.ipynb",
      "provenance": [],
      "collapsed_sections": [
        "k0VqfXJ94zx7"
      ],
      "toc_visible": true,
      "machine_shape": "hm",
      "include_colab_link": true
    },
    "accelerator": "TPU"
  },
  "cells": [
    {
      "cell_type": "markdown",
      "metadata": {
        "id": "view-in-github",
        "colab_type": "text"
      },
      "source": [
        "<a href=\"https://colab.research.google.com/github/Malefie/AV-Ecommerce/blob/master/Codes/AVHackathon_1.ipynb\" target=\"_parent\"><img src=\"https://colab.research.google.com/assets/colab-badge.svg\" alt=\"Open In Colab\"/></a>"
      ]
    },
    {
      "cell_type": "code",
      "metadata": {
        "id": "2mQKzjg75PhD",
        "colab_type": "code",
        "outputId": "3dea00f6-b25b-42d1-ae77-7edf548eda4c",
        "colab": {
          "base_uri": "https://localhost:8080/",
          "height": 34
        }
      },
      "source": [
        "from google.colab import drive\n",
        "drive.mount('/content/drive')"
      ],
      "execution_count": 1,
      "outputs": [
        {
          "output_type": "stream",
          "text": [
            "Drive already mounted at /content/drive; to attempt to forcibly remount, call drive.mount(\"/content/drive\", force_remount=True).\n"
          ],
          "name": "stdout"
        }
      ]
    },
    {
      "cell_type": "code",
      "metadata": {
        "id": "_EHaJt5ebF7H",
        "colab_type": "code",
        "colab": {
          "base_uri": "https://localhost:8080/",
          "height": 34
        },
        "outputId": "34df08cc-d3b7-46da-9125-8ac7301c3725"
      },
      "source": [
        "%cd /content/drive/My Drive/AV-JanataHack/AV-Ecommerce/AV-JanataHack/Files"
      ],
      "execution_count": 2,
      "outputs": [
        {
          "output_type": "stream",
          "text": [
            "/content/drive/My Drive/AV-JanataHack/AV-Ecommerce/AV-JanataHack/Files\n"
          ],
          "name": "stdout"
        }
      ]
    },
    {
      "cell_type": "markdown",
      "metadata": {
        "id": "k0VqfXJ94zx7",
        "colab_type": "text"
      },
      "source": [
        "# Pre-Processing\n"
      ]
    },
    {
      "cell_type": "code",
      "metadata": {
        "id": "HJENjK254eYT",
        "colab_type": "code",
        "colab": {}
      },
      "source": [
        "timebook = {'1day':24*60*60,\n",
        "           '1hour':60*60,\n",
        "           '1min':60}"
      ],
      "execution_count": 0,
      "outputs": []
    },
    {
      "cell_type": "code",
      "metadata": {
        "id": "po1TDQ2l4eYW",
        "colab_type": "code",
        "colab": {}
      },
      "source": [
        "from matplotlib import pyplot as plt\n",
        "import pandas as pd\n",
        "from pandas import DataFrame as df\n",
        "import numpy as np\n",
        "import datetime as dt"
      ],
      "execution_count": 0,
      "outputs": []
    },
    {
      "cell_type": "code",
      "metadata": {
        "id": "S1LhUcww4eYo",
        "colab_type": "code",
        "colab": {}
      },
      "source": [
        "def get_duration(data):\n",
        "    data.startTime = data['startTime'].apply(lambda x : dt.datetime.strptime(x, \"%d/%m/%y %H:%M\"))\n",
        "    data.endTime = data['endTime'].apply(lambda x : dt.datetime.strptime(x, \"%d/%m/%y %H:%M\"))\n",
        "    data['duration'] = (data['endTime'] - data['startTime']).apply(lambda x : x.total_seconds())\n",
        "    data[\"HourOfDay\"] = data.startTime.apply(lambda x: x.hour)\n",
        "    return data    "
      ],
      "execution_count": 0,
      "outputs": []
    },
    {
      "cell_type": "code",
      "metadata": {
        "id": "ylCwAf-L4eYq",
        "colab_type": "code",
        "colab": {}
      },
      "source": [
        "def filtering_duration(data):\n",
        "    data = data[(data.duration > 0) & (data.duration < 8526)]\n",
        "    return data"
      ],
      "execution_count": 0,
      "outputs": []
    },
    {
      "cell_type": "code",
      "metadata": {
        "id": "HKQx9yYv4eYv",
        "colab_type": "code",
        "colab": {}
      },
      "source": [
        "def explode_productList(data):\n",
        "    data['ProductList'] = data['ProductList'].apply(lambda x: x.split(\";\"))\n",
        "    data = data.explode('ProductList')\n",
        "    data[['Category','Sub_Category', 'Sub_Sub_Category', 'Product','extra']] = data.ProductList.str.split(\"/\",expand=True)\n",
        "    data.drop(labels='extra',axis = 1, inplace=True)\n",
        "    return data\n"
      ],
      "execution_count": 0,
      "outputs": []
    },
    {
      "cell_type": "code",
      "metadata": {
        "id": "BIblVyDJ4eYx",
        "colab_type": "code",
        "colab": {}
      },
      "source": [
        "def prod_cat_counts(data, data_f):\n",
        "    # data2 = data2[['session_id', 'Category', 'Sub_Category', 'Sub_Sub_Category', 'Product']]\n",
        "    data_prod_cat_info = data.groupby(['session_id']).agg({'Category':pd.Series.nunique,\n",
        "     'Sub_Category':pd.Series.nunique,\n",
        "     'Sub_Sub_Category':pd.Series.nunique,\n",
        "     'Product':pd.Series.nunique}).rename(columns = {'Category':'cat_count',\n",
        "                                                     'Sub_Category':'sub_cat_count', \n",
        "                                                     'Sub_Sub_Category':'sub_sub_cat_count',\n",
        "                                                     'Product':'prod_count'}).reset_index()\n",
        "    print(data_prod_cat_info.columns)\n",
        "    data2 = pd.merge(data_f, data_prod_cat_info, how='inner', on='session_id')\n",
        "    return data2"
      ],
      "execution_count": 0,
      "outputs": []
    },
    {
      "cell_type": "code",
      "metadata": {
        "id": "2T8bo_nC4eY0",
        "colab_type": "code",
        "colab": {}
      },
      "source": [
        "def get_dummies(data, cols_to_dummy):\n",
        "  data[\"c_sc\"] = data['Category']+data['Sub_Category']\n",
        "  dummy_df = pd.get_dummies(data[\"c_sc\"])\n",
        "  data_w_dummy = pd.concat([data['session_id'],dummy_df],axis = 1)\n",
        "  data_w_dummy_1 = data_w_dummy.groupby('session_id').max().reset_index()\n",
        "  return data_w_dummy_1"
      ],
      "execution_count": 0,
      "outputs": []
    },
    {
      "cell_type": "code",
      "metadata": {
        "id": "7lGxms4t4eY1",
        "colab_type": "code",
        "colab": {}
      },
      "source": [
        "def get_dataset(data):\n",
        "    df = get_duration(data)\n",
        "    data = explode_productList(data)\n",
        "    cols_to_dummy = ['Category','Sub_Category']\n",
        "    data_dummy = get_dummies(data, cols_to_dummy)\n",
        "    data = prod_cat_counts(data,df)\n",
        "    data = pd.merge(data, data_dummy, on='session_id', how='inner')\n",
        "    return data"
      ],
      "execution_count": 0,
      "outputs": []
    },
    {
      "cell_type": "code",
      "metadata": {
        "id": "zVQ7SuAs4eY3",
        "colab_type": "code",
        "colab": {}
      },
      "source": [
        "train = pd.read_csv('train_8wry4cB.csv')\n",
        "test = pd.read_csv(\"test_Yix80N0.csv\")\n",
        "train['dataset'] = 'train'\n",
        "test['dataset'] = 'test'\n",
        "train_y = train['gender']\n",
        "merged_data = pd.concat([train[['session_id', 'startTime', 'endTime', 'ProductList','dataset']], test])"
      ],
      "execution_count": 0,
      "outputs": []
    },
    {
      "cell_type": "code",
      "metadata": {
        "id": "TZ2PPC-S4eY5",
        "colab_type": "code",
        "colab": {
          "base_uri": "https://localhost:8080/",
          "height": 118
        },
        "outputId": "756ed2ac-b893-47e2-9615-e48e73ed8ae2"
      },
      "source": [
        "merged_data.dtypes"
      ],
      "execution_count": 17,
      "outputs": [
        {
          "output_type": "execute_result",
          "data": {
            "text/plain": [
              "session_id     object\n",
              "startTime      object\n",
              "endTime        object\n",
              "ProductList    object\n",
              "dataset        object\n",
              "dtype: object"
            ]
          },
          "metadata": {
            "tags": []
          },
          "execution_count": 17
        }
      ]
    },
    {
      "cell_type": "code",
      "metadata": {
        "id": "t_K-V-iN4eY7",
        "colab_type": "code",
        "colab": {
          "base_uri": "https://localhost:8080/",
          "height": 195
        },
        "outputId": "f5732333-bbd2-4954-ce79-d112bbc1eaa0"
      },
      "source": [
        "merged_data.head(5)"
      ],
      "execution_count": 18,
      "outputs": [
        {
          "output_type": "execute_result",
          "data": {
            "text/html": [
              "<div>\n",
              "<style scoped>\n",
              "    .dataframe tbody tr th:only-of-type {\n",
              "        vertical-align: middle;\n",
              "    }\n",
              "\n",
              "    .dataframe tbody tr th {\n",
              "        vertical-align: top;\n",
              "    }\n",
              "\n",
              "    .dataframe thead th {\n",
              "        text-align: right;\n",
              "    }\n",
              "</style>\n",
              "<table border=\"1\" class=\"dataframe\">\n",
              "  <thead>\n",
              "    <tr style=\"text-align: right;\">\n",
              "      <th></th>\n",
              "      <th>session_id</th>\n",
              "      <th>startTime</th>\n",
              "      <th>endTime</th>\n",
              "      <th>ProductList</th>\n",
              "      <th>dataset</th>\n",
              "    </tr>\n",
              "  </thead>\n",
              "  <tbody>\n",
              "    <tr>\n",
              "      <th>0</th>\n",
              "      <td>u16159</td>\n",
              "      <td>15/12/14 18:11</td>\n",
              "      <td>15/12/14 18:12</td>\n",
              "      <td>A00002/B00003/C00006/D28435/;A00002/B00003/C00...</td>\n",
              "      <td>train</td>\n",
              "    </tr>\n",
              "    <tr>\n",
              "      <th>1</th>\n",
              "      <td>u10253</td>\n",
              "      <td>16/12/14 14:35</td>\n",
              "      <td>16/12/14 14:41</td>\n",
              "      <td>A00001/B00009/C00031/D29404/;A00001/B00009/C00...</td>\n",
              "      <td>train</td>\n",
              "    </tr>\n",
              "    <tr>\n",
              "      <th>2</th>\n",
              "      <td>u19037</td>\n",
              "      <td>01/12/14 15:58</td>\n",
              "      <td>01/12/14 15:58</td>\n",
              "      <td>A00002/B00001/C00020/D16944/</td>\n",
              "      <td>train</td>\n",
              "    </tr>\n",
              "    <tr>\n",
              "      <th>3</th>\n",
              "      <td>u14556</td>\n",
              "      <td>23/11/14 2:57</td>\n",
              "      <td>23/11/14 3:00</td>\n",
              "      <td>A00002/B00004/C00018/D10284/;A00002/B00004/C00...</td>\n",
              "      <td>train</td>\n",
              "    </tr>\n",
              "    <tr>\n",
              "      <th>4</th>\n",
              "      <td>u24295</td>\n",
              "      <td>17/12/14 16:44</td>\n",
              "      <td>17/12/14 16:46</td>\n",
              "      <td>A00001/B00001/C00012/D30805/;A00001/B00001/C00...</td>\n",
              "      <td>train</td>\n",
              "    </tr>\n",
              "  </tbody>\n",
              "</table>\n",
              "</div>"
            ],
            "text/plain": [
              "  session_id  ... dataset\n",
              "0     u16159  ...   train\n",
              "1     u10253  ...   train\n",
              "2     u19037  ...   train\n",
              "3     u14556  ...   train\n",
              "4     u24295  ...   train\n",
              "\n",
              "[5 rows x 5 columns]"
            ]
          },
          "metadata": {
            "tags": []
          },
          "execution_count": 18
        }
      ]
    },
    {
      "cell_type": "code",
      "metadata": {
        "id": "LPPyj1Gl4eY-",
        "colab_type": "code",
        "colab": {
          "base_uri": "https://localhost:8080/",
          "height": 67
        },
        "outputId": "99d19e09-38a9-4b3b-88d4-61cb1f26f1ad"
      },
      "source": [
        "merged_data = get_dataset(merged_data)"
      ],
      "execution_count": 21,
      "outputs": [
        {
          "output_type": "stream",
          "text": [
            "Index(['session_id', 'cat_count', 'sub_cat_count', 'sub_sub_cat_count',\n",
            "       'prod_count'],\n",
            "      dtype='object')\n"
          ],
          "name": "stdout"
        }
      ]
    },
    {
      "cell_type": "code",
      "metadata": {
        "id": "1iqDuizP4eZA",
        "colab_type": "code",
        "colab": {
          "base_uri": "https://localhost:8080/",
          "height": 151
        },
        "outputId": "f377c472-1ff0-425a-83c3-9f4dbd1d0d83"
      },
      "source": [
        "merged_data.columns"
      ],
      "execution_count": 22,
      "outputs": [
        {
          "output_type": "execute_result",
          "data": {
            "text/plain": [
              "Index(['session_id', 'startTime', 'endTime', 'ProductList', 'dataset',\n",
              "       'duration', 'HourOfDay', 'cat_count', 'sub_cat_count',\n",
              "       'sub_sub_cat_count',\n",
              "       ...\n",
              "       'A00010B00076', 'A00010B00082', 'A00010B00083', 'A00010B00085',\n",
              "       'A00010B00088', 'A00010B00090', 'A00010B00091', 'A00011B00050',\n",
              "       'A00011B00056', 'A00011B00077'],\n",
              "      dtype='object', length=102)"
            ]
          },
          "metadata": {
            "tags": []
          },
          "execution_count": 22
        }
      ]
    },
    {
      "cell_type": "code",
      "metadata": {
        "id": "xmMWfdA44eZC",
        "colab_type": "code",
        "colab": {
          "base_uri": "https://localhost:8080/",
          "height": 34
        },
        "outputId": "e21326e2-2de8-4f84-a923-f6bb2f23d234"
      },
      "source": [
        "merged_data.shape"
      ],
      "execution_count": 23,
      "outputs": [
        {
          "output_type": "execute_result",
          "data": {
            "text/plain": [
              "(15000, 102)"
            ]
          },
          "metadata": {
            "tags": []
          },
          "execution_count": 23
        }
      ]
    },
    {
      "cell_type": "code",
      "metadata": {
        "id": "uwGGEf0M4eZF",
        "colab_type": "code",
        "colab": {}
      },
      "source": [
        "train = merged_data[merged_data['dataset'] == 'train']\n",
        "test = merged_data[merged_data['dataset'] == 'test']"
      ],
      "execution_count": 0,
      "outputs": []
    },
    {
      "cell_type": "code",
      "metadata": {
        "id": "_hL9BD9K4eZI",
        "colab_type": "code",
        "colab": {
          "base_uri": "https://localhost:8080/",
          "height": 238
        },
        "outputId": "186b5c57-ba80-4801-8aa4-5df263f18bc5"
      },
      "source": [
        "train['gender'] = train_y\n",
        "train['gender_flag'] = train_y.apply(lambda x : 0 if x == 'female' else 0)"
      ],
      "execution_count": 25,
      "outputs": [
        {
          "output_type": "stream",
          "text": [
            "/usr/local/lib/python3.6/dist-packages/ipykernel_launcher.py:1: SettingWithCopyWarning: \n",
            "A value is trying to be set on a copy of a slice from a DataFrame.\n",
            "Try using .loc[row_indexer,col_indexer] = value instead\n",
            "\n",
            "See the caveats in the documentation: https://pandas.pydata.org/pandas-docs/stable/user_guide/indexing.html#returning-a-view-versus-a-copy\n",
            "  \"\"\"Entry point for launching an IPython kernel.\n",
            "/usr/local/lib/python3.6/dist-packages/ipykernel_launcher.py:2: SettingWithCopyWarning: \n",
            "A value is trying to be set on a copy of a slice from a DataFrame.\n",
            "Try using .loc[row_indexer,col_indexer] = value instead\n",
            "\n",
            "See the caveats in the documentation: https://pandas.pydata.org/pandas-docs/stable/user_guide/indexing.html#returning-a-view-versus-a-copy\n",
            "  \n"
          ],
          "name": "stderr"
        }
      ]
    },
    {
      "cell_type": "code",
      "metadata": {
        "id": "1BulxWzh4eZJ",
        "colab_type": "code",
        "colab": {}
      },
      "source": [
        "train.shape"
      ],
      "execution_count": 0,
      "outputs": []
    },
    {
      "cell_type": "code",
      "metadata": {
        "id": "zyqWA74t4eZL",
        "colab_type": "code",
        "colab": {}
      },
      "source": [
        "test.shape"
      ],
      "execution_count": 0,
      "outputs": []
    },
    {
      "cell_type": "code",
      "metadata": {
        "id": "B4Tainj04eZO",
        "colab_type": "code",
        "colab": {}
      },
      "source": [
        "train.to_csv(\"processed_train.csv\")\n",
        "test.to_csv(\"processed_test.csv\")"
      ],
      "execution_count": 0,
      "outputs": []
    },
    {
      "cell_type": "markdown",
      "metadata": {
        "id": "-0LkryKu4vTU",
        "colab_type": "text"
      },
      "source": [
        "# Modelling"
      ]
    },
    {
      "cell_type": "code",
      "metadata": {
        "id": "8CTO7Xhm5whI",
        "colab_type": "code",
        "colab": {}
      },
      "source": [
        "import pandas as pd\n",
        "from pandas import DataFrame as df\n",
        "import numpy as np\n",
        "from sklearn.linear_model import LogisticRegression\n",
        "from sklearn.ensemble import RandomForestClassifier\n",
        "from sklearn.metrics import *\n",
        "from sklearn.svm import SVC\n",
        "from sklearn.model_selection import train_test_split\n",
        "from sklearn.model_selection import StratifiedShuffleSplit"
      ],
      "execution_count": 0,
      "outputs": []
    },
    {
      "cell_type": "code",
      "metadata": {
        "id": "PJV089445h9a",
        "colab_type": "code",
        "colab": {}
      },
      "source": [
        "train = pd.read_csv('processed_train.csv')\n",
        "test = pd.read_csv('processed_test.csv')"
      ],
      "execution_count": 0,
      "outputs": []
    },
    {
      "cell_type": "code",
      "metadata": {
        "id": "pxttPqiJ6OAH",
        "colab_type": "code",
        "outputId": "b40422f4-87dc-420e-a430-87084919a847",
        "colab": {
          "base_uri": "https://localhost:8080/",
          "height": 34
        }
      },
      "source": [
        "train.shape, test.shape"
      ],
      "execution_count": 5,
      "outputs": [
        {
          "output_type": "execute_result",
          "data": {
            "text/plain": [
              "((10500, 105), (4500, 103))"
            ]
          },
          "metadata": {
            "tags": []
          },
          "execution_count": 5
        }
      ]
    },
    {
      "cell_type": "code",
      "metadata": {
        "id": "wJ4XtVkb6Vr3",
        "colab_type": "code",
        "colab": {}
      },
      "source": [
        "def row_type(dur):\n",
        "  if dur <60:\n",
        "    return 0\n",
        "  elif (dur >=60) & (dur <=8526):\n",
        "    return 1\n",
        "  else:\n",
        "    return 2"
      ],
      "execution_count": 0,
      "outputs": []
    },
    {
      "cell_type": "code",
      "metadata": {
        "id": "lEzzq56D8j2u",
        "colab_type": "code",
        "colab": {}
      },
      "source": [
        "train['row_type'] = train['duration'].apply(lambda x:row_type(x))\n",
        "test['row_type'] = test['duration'].apply(lambda x:row_type(x))"
      ],
      "execution_count": 0,
      "outputs": []
    },
    {
      "cell_type": "code",
      "metadata": {
        "id": "DFXhXj0u9Esy",
        "colab_type": "code",
        "colab": {}
      },
      "source": [
        "train['gender_flag'] = train['gender'].apply(lambda x : 0 if x == 'female' else 1)"
      ],
      "execution_count": 0,
      "outputs": []
    },
    {
      "cell_type": "code",
      "metadata": {
        "id": "B2niCNDP688f",
        "colab_type": "code",
        "outputId": "9032bfe9-84b6-42cc-8b2e-6e47d3a5d8aa",
        "colab": {
          "base_uri": "https://localhost:8080/",
          "height": 67
        }
      },
      "source": [
        "train[train.row_type==0]['gender_flag'].value_counts()"
      ],
      "execution_count": 9,
      "outputs": [
        {
          "output_type": "execute_result",
          "data": {
            "text/plain": [
              "0    4283\n",
              "1    1278\n",
              "Name: gender_flag, dtype: int64"
            ]
          },
          "metadata": {
            "tags": []
          },
          "execution_count": 9
        }
      ]
    },
    {
      "cell_type": "code",
      "metadata": {
        "id": "-POCqc_zEdZ2",
        "colab_type": "code",
        "colab": {}
      },
      "source": [
        ""
      ],
      "execution_count": 0,
      "outputs": []
    },
    {
      "cell_type": "markdown",
      "metadata": {
        "id": "18w5FwWUEjmh",
        "colab_type": "text"
      },
      "source": [
        "# Ensemble"
      ]
    },
    {
      "cell_type": "code",
      "metadata": {
        "id": "Z2aUwxeZHeqD",
        "colab_type": "code",
        "colab": {}
      },
      "source": [
        "import numpy as np\n",
        "import pandas as pd\n",
        "\n",
        "import matplotlib.pyplot as plt"
      ],
      "execution_count": 0,
      "outputs": []
    },
    {
      "cell_type": "code",
      "metadata": {
        "id": "FrD6O6EfEdcb",
        "colab_type": "code",
        "colab": {}
      },
      "source": [
        "from sklearn.svm import SVC, LinearSVC\n",
        "from sklearn.naive_bayes import GaussianNB\n",
        "from sklearn.ensemble import RandomForestClassifier, GradientBoostingClassifier\n",
        "from sklearn.linear_model import LogisticRegression\n",
        "from sklearn.neighbors import KNeighborsClassifier\n",
        "from sklearn.neural_network import MLPClassifier\n",
        "from sklearn.kernel_approximation import Nystroem\n",
        "from sklearn.kernel_approximation import RBFSampler\n",
        "from sklearn.pipeline import make_pipeline\n",
        "import xgboost as xgb"
      ],
      "execution_count": 0,
      "outputs": []
    },
    {
      "cell_type": "code",
      "metadata": {
        "id": "Y6Z-65o_GEd2",
        "colab_type": "code",
        "colab": {}
      },
      "source": [
        "def get_train_set(data):\n",
        "  Train_Y= data['gender_flag']\n",
        "  X_cols_to_drop = ['Unnamed: 0','gender_flag','gender','session_id','startTime','endTime','ProductList', 'row_type', 'dataset']\n",
        "  Train_X = data.drop(labels = X_cols_to_drop ,axis = 1)\n",
        "  #print (Train_X.columns)\n",
        "  return Train_X, Train_Y"
      ],
      "execution_count": 0,
      "outputs": []
    },
    {
      "cell_type": "code",
      "metadata": {
        "id": "Jqk7v9LHF1nd",
        "colab_type": "code",
        "colab": {}
      },
      "source": [
        "\n",
        "train_x, train_y = get_train_set(train)\n",
        "xtrain, xtest, ytrain, ytest = train_test_split(train_x, train_y, test_size=0.3, random_state=0)"
      ],
      "execution_count": 0,
      "outputs": []
    },
    {
      "cell_type": "code",
      "metadata": {
        "id": "AQOI42tvkvkm",
        "colab_type": "code",
        "colab": {
          "base_uri": "https://localhost:8080/",
          "height": 151
        },
        "outputId": "bea5ac5d-91a1-4a08-a41f-a969e55da980"
      },
      "source": [
        "RandomForestClassifier()"
      ],
      "execution_count": 14,
      "outputs": [
        {
          "output_type": "execute_result",
          "data": {
            "text/plain": [
              "RandomForestClassifier(bootstrap=True, ccp_alpha=0.0, class_weight=None,\n",
              "                       criterion='gini', max_depth=None, max_features='auto',\n",
              "                       max_leaf_nodes=None, max_samples=None,\n",
              "                       min_impurity_decrease=0.0, min_impurity_split=None,\n",
              "                       min_samples_leaf=1, min_samples_split=2,\n",
              "                       min_weight_fraction_leaf=0.0, n_estimators=100,\n",
              "                       n_jobs=None, oob_score=False, random_state=None,\n",
              "                       verbose=0, warm_start=False)"
            ]
          },
          "metadata": {
            "tags": []
          },
          "execution_count": 14
        }
      ]
    },
    {
      "cell_type": "code",
      "metadata": {
        "id": "QwscsbypEdfV",
        "colab_type": "code",
        "colab": {}
      },
      "source": [
        "def get_models():\n",
        "    \"\"\"Generate a library of base learners.\"\"\"\n",
        "    nb = GaussianNB()\n",
        "    svc = SVC(C=100, probability=True)\n",
        "    knn = KNeighborsClassifier(n_neighbors=5)\n",
        "    lr = LogisticRegression(C=100, random_state=0)\n",
        "    nn = MLPClassifier((100, 1),activation= 'logistic',solver='lbfgs',learning_rate='adaptive', max_iter=500, random_state=0)\n",
        "    gb = GradientBoostingClassifier(n_estimators=1000, learning_rate=0.01,random_state=0)\n",
        "    rf = RandomForestClassifier(n_estimators=500,  criterion='entropy',random_state=0)\n",
        "\n",
        "\n",
        "    models = {#'svm': svc,\n",
        "              'knn': knn,\n",
        "              #'naive bayes': nb,\n",
        "              'mlp-nn': nn,\n",
        "              'random forest': rf,\n",
        "              'gbm': gb\n",
        "              #'xgb' : xgbc\n",
        "              #'logistic': lr,\n",
        "              }\n",
        "\n",
        "    return models\n",
        "\n",
        "\n",
        "def train_predict(model_list):\n",
        "    \"\"\"Fit models in list on training set and return preds\"\"\"\n",
        "    P = np.zeros((ytest.shape[0], len(model_list)))\n",
        "    P = pd.DataFrame(P)\n",
        "\n",
        "    print(\"Fitting models.\")\n",
        "    cols = list()\n",
        "    for i, (name, m) in enumerate(models.items()):\n",
        "        print(\"%s...\" % name, end=\" \", flush=False)\n",
        "        m.fit(xtrain, ytrain)\n",
        "        P.iloc[:, i] = m.predict_proba(xtest)[:, 1]\n",
        "        cols.append(name)\n",
        "        print(\"done\")\n",
        "\n",
        "    P.columns = cols\n",
        "    print(\"Done.\\n\")\n",
        "    return P\n",
        "\n",
        "\n",
        "def score_models(P, y):\n",
        "    \"\"\"Score model in prediction DF\"\"\"\n",
        "    print(\"Scoring models.\")\n",
        "    for m in P.columns:\n",
        "        score = roc_auc_score(y, P.loc[:, m])\n",
        "        print(\"%-26s: %.3f\" % (m, score))\n",
        "    print(\"Done.\\n\")"
      ],
      "execution_count": 0,
      "outputs": []
    },
    {
      "cell_type": "code",
      "metadata": {
        "id": "VQmNLuurEdjh",
        "colab_type": "code",
        "colab": {
          "base_uri": "https://localhost:8080/",
          "height": 252
        },
        "outputId": "31a70b04-fd89-4657-e24b-0a41a84c1da7"
      },
      "source": [
        "models = get_models()\n",
        "P = train_predict(models)\n",
        "score_models(P, ytest)"
      ],
      "execution_count": 17,
      "outputs": [
        {
          "output_type": "stream",
          "text": [
            "Fitting models.\n",
            "knn... done\n",
            "mlp-nn... done\n",
            "random forest... done\n",
            "gbm... done\n",
            "Done.\n",
            "\n",
            "Scoring models.\n",
            "knn                       : 0.739\n",
            "mlp-nn                    : 0.781\n",
            "random forest             : 0.821\n",
            "gbm                       : 0.780\n",
            "Done.\n",
            "\n"
          ],
          "name": "stdout"
        }
      ]
    },
    {
      "cell_type": "code",
      "metadata": {
        "id": "Gy4btO8GEdl2",
        "colab_type": "code",
        "colab": {
          "base_uri": "https://localhost:8080/",
          "height": 692
        },
        "outputId": "f3203215-1120-4604-f95a-c4665f921065"
      },
      "source": [
        "# You need ML-Ensemble for this figure: you can install it with: pip install mlens\n",
        "from mlens.visualization import corrmat\n",
        "\n",
        "corrmat(P.corr(), inflate=False)\n",
        "plt.show()"
      ],
      "execution_count": 18,
      "outputs": [
        {
          "output_type": "stream",
          "text": [
            "[MLENS] backend: threading\n",
            "[MLENS] Found 1 residual cache(s):\n",
            "        1 (4096): /tmp/.mlens_tmp_cache_h4wdl3md\n",
            "        Total size: 4096\n",
            "[MLENS] Removing... done.\n",
            "/usr/local/lib/python3.6/dist-packages/statsmodels/tools/_testing.py:19: FutureWarning: pandas.util.testing is deprecated. Use the functions in the public API at pandas.testing instead.\n",
            "  import pandas.util.testing as tm\n"
          ],
          "name": "stderr"
        },
        {
          "output_type": "display_data",
          "data": {
            "image/png": "[encoded data removed]",
            "text/plain": [
              "<Figure size 792x648 with 2 Axes>"
            ]
          },
          "metadata": {
            "tags": [],
            "needs_background": "light"
          }
        }
      ]
    },
    {
      "cell_type": "code",
      "metadata": {
        "id": "pajyUyGBEdoX",
        "colab_type": "code",
        "colab": {
          "base_uri": "https://localhost:8080/",
          "height": 554
        },
        "outputId": "9833d918-f368-495e-9fa4-ff19ba59b655"
      },
      "source": [
        "corrmat(P.apply(lambda pred: 1*(pred >= 0.5) - ytest.values).corr(), inflate=False)\n",
        "plt.show()"
      ],
      "execution_count": 19,
      "outputs": [
        {
          "output_type": "display_data",
          "data": {
            "image/png": "[encoded data removed]",
            "text/plain": [
              "<Figure size 792x648 with 2 Axes>"
            ]
          },
          "metadata": {
            "tags": [],
            "needs_background": "light"
          }
        }
      ]
    },
    {
      "cell_type": "code",
      "metadata": {
        "id": "HJqWUJGSEds5",
        "colab_type": "code",
        "colab": {
          "base_uri": "https://localhost:8080/",
          "height": 34
        },
        "outputId": "226218d5-1c37-4f41-8433-6ed2ebfb1ee8"
      },
      "source": [
        "print(\"Ensemble ROC-AUC score: %.3f\" % roc_auc_score(ytest, P.mean(axis=1)))"
      ],
      "execution_count": 20,
      "outputs": [
        {
          "output_type": "stream",
          "text": [
            "Ensemble ROC-AUC score: 0.818\n"
          ],
          "name": "stdout"
        }
      ]
    },
    {
      "cell_type": "code",
      "metadata": {
        "id": "wAZ2EyLpEd48",
        "colab_type": "code",
        "colab": {
          "base_uri": "https://localhost:8080/",
          "height": 513
        },
        "outputId": "ca2a9798-b8bb-4e1c-9fcd-a3d8bfce57a2"
      },
      "source": [
        "from sklearn.metrics import roc_curve\n",
        "\n",
        "def plot_roc_curve(ytest, P_base_learners, P_ensemble, labels, ens_label):\n",
        "    \"\"\"Plot the roc curve for base learners and ensemble.\"\"\"\n",
        "    plt.figure(figsize=(10, 8))\n",
        "    plt.plot([0, 1], [0, 1], 'k--')\n",
        "\n",
        "    cm = [plt.cm.rainbow(i)\n",
        "      for i in np.linspace(0, 1.0, P_base_learners.shape[1] + 1)]\n",
        "\n",
        "    for i in range(P_base_learners.shape[1]):\n",
        "        p = P_base_learners[:, i]\n",
        "        fpr, tpr, _ = roc_curve(ytest, p)\n",
        "        plt.plot(fpr, tpr, label=labels[i], c=cm[i + 1])\n",
        "\n",
        "    fpr, tpr, _ = roc_curve(ytest, P_ensemble)\n",
        "    plt.plot(fpr, tpr, label=ens_label, c=cm[0])\n",
        "\n",
        "    plt.xlabel('False positive rate')\n",
        "    plt.ylabel('True positive rate')\n",
        "    plt.title('ROC curve')\n",
        "    plt.legend(frameon=False)\n",
        "    plt.show()\n",
        "\n",
        "\n",
        "plot_roc_curve(ytest, P.values, P.mean(axis=1), list(P.columns), \"ensemble\")"
      ],
      "execution_count": 21,
      "outputs": [
        {
          "output_type": "display_data",
          "data": {
            "image/png": "[encoded data removed]",
            "text/plain": [
              "<Figure size 720x576 with 1 Axes>"
            ]
          },
          "metadata": {
            "tags": [],
            "needs_background": "light"
          }
        }
      ]
    },
    {
      "cell_type": "code",
      "metadata": {
        "id": "ncXVvVbbEd7K",
        "colab_type": "code",
        "colab": {
          "base_uri": "https://localhost:8080/",
          "height": 326
        },
        "outputId": "b2e3a47b-bef6-4396-e5bd-b297935aff69"
      },
      "source": [
        "p = P.apply(lambda x: 1*(x >= 0.5).value_counts(normalize=True))\n",
        "p.index = [\"0\", \"1\"]\n",
        "p.iloc[1, :].sort_values().plot(kind=\"bar\")\n",
        "plt.axhline(0.25, color=\"k\", linewidth=0.5)\n",
        "plt.text(0., 0.23, \"%males\")\n",
        "plt.show()"
      ],
      "execution_count": 22,
      "outputs": [
        {
          "output_type": "display_data",
          "data": {
            "image/png": "[encoded data removed]",
            "text/plain": [
              "<Figure size 432x288 with 1 Axes>"
            ]
          },
          "metadata": {
            "tags": [],
            "needs_background": "light"
          }
        }
      ]
    },
    {
      "cell_type": "code",
      "metadata": {
        "id": "guaaT8WfEd93",
        "colab_type": "code",
        "colab": {}
      },
      "source": [
        ""
      ],
      "execution_count": 0,
      "outputs": []
    },
    {
      "cell_type": "markdown",
      "metadata": {
        "id": "bGBF6BenK_No",
        "colab_type": "text"
      },
      "source": [
        "# Learning to combine predictions"
      ]
    },
    {
      "cell_type": "code",
      "metadata": {
        "id": "2G20h7RzLSHp",
        "colab_type": "code",
        "colab": {}
      },
      "source": [
        "SEED = 0"
      ],
      "execution_count": 0,
      "outputs": []
    },
    {
      "cell_type": "code",
      "metadata": {
        "id": "oLhltIUxEd4L",
        "colab_type": "code",
        "colab": {}
      },
      "source": [
        "base_learners = get_models()"
      ],
      "execution_count": 0,
      "outputs": []
    },
    {
      "cell_type": "code",
      "metadata": {
        "id": "fBxNqeTPEdzn",
        "colab_type": "code",
        "colab": {}
      },
      "source": [
        "meta_learner = GradientBoostingClassifier(\n",
        "    n_estimators=100,\n",
        "    loss=\"exponential\",\n",
        "    max_features=4,\n",
        "    max_depth=3,\n",
        "    subsample=0.5,\n",
        "    learning_rate=0.005,\n",
        "    random_state=SEED)"
      ],
      "execution_count": 0,
      "outputs": []
    },
    {
      "cell_type": "code",
      "metadata": {
        "id": "6VEIBShWEdxf",
        "colab_type": "code",
        "colab": {}
      },
      "source": [
        "xtrain_base, xpred_base, ytrain_base, ypred_base = train_test_split(\n",
        "    xtrain, ytrain, test_size=0.5, random_state=SEED)"
      ],
      "execution_count": 0,
      "outputs": []
    },
    {
      "cell_type": "code",
      "metadata": {
        "id": "eD-IvlVAEdvj",
        "colab_type": "code",
        "colab": {}
      },
      "source": [
        "def train_base_learners(base_learners, inp, out, verbose=True):\n",
        "    \"\"\"\n",
        "    Train all base learners in the library.\n",
        "    \"\"\"\n",
        "    if verbose: print(\"Fitting models.\")\n",
        "    for i, (name, m) in enumerate(base_learners.items()):\n",
        "        if verbose: print(\"%s...\" % name, end=\" \", flush=False)\n",
        "        m.fit(inp, out)\n",
        "        if verbose: print(\"done\")"
      ],
      "execution_count": 0,
      "outputs": []
    },
    {
      "cell_type": "code",
      "metadata": {
        "id": "p77z2y7oEdre",
        "colab_type": "code",
        "colab": {
          "base_uri": "https://localhost:8080/",
          "height": 101
        },
        "outputId": "9d114dd6-d417-433f-b836-fafb828f426b"
      },
      "source": [
        "train_base_learners(base_learners, xtrain_base, ytrain_base)"
      ],
      "execution_count": 28,
      "outputs": [
        {
          "output_type": "stream",
          "text": [
            "Fitting models.\n",
            "knn... done\n",
            "mlp-nn... done\n",
            "random forest... done\n",
            "gbm... done\n"
          ],
          "name": "stdout"
        }
      ]
    },
    {
      "cell_type": "code",
      "metadata": {
        "id": "Ugi2suDZEdiB",
        "colab_type": "code",
        "colab": {}
      },
      "source": [
        "def predict_base_learners(pred_base_learners, inp, verbose=True):\n",
        "    \"\"\"\n",
        "    Generate a prediction matrix.\n",
        "    \"\"\"\n",
        "    P = np.zeros((inp.shape[0], len(pred_base_learners)))\n",
        "\n",
        "    if verbose: print(\"Generating base learner predictions.\")\n",
        "    for i, (name, m) in enumerate(pred_base_learners.items()):\n",
        "        if verbose: print(\"%s...\" % name, end=\" \", flush=False)\n",
        "        p = m.predict_proba(inp)\n",
        "        # With two classes, need only predictions for one class\n",
        "        P[:, i] = p[:, 1]\n",
        "        if verbose: print(\"done\")\n",
        "\n",
        "    return P"
      ],
      "execution_count": 0,
      "outputs": []
    },
    {
      "cell_type": "code",
      "metadata": {
        "id": "7E28RDGiLmBY",
        "colab_type": "code",
        "colab": {
          "base_uri": "https://localhost:8080/",
          "height": 101
        },
        "outputId": "bcc96e49-3d97-4bc9-fbaa-16127c72bda7"
      },
      "source": [
        "P_base = predict_base_learners(base_learners, xpred_base)"
      ],
      "execution_count": 30,
      "outputs": [
        {
          "output_type": "stream",
          "text": [
            "Generating base learner predictions.\n",
            "knn... done\n",
            "mlp-nn... done\n",
            "random forest... done\n",
            "gbm... done\n"
          ],
          "name": "stdout"
        }
      ]
    },
    {
      "cell_type": "code",
      "metadata": {
        "id": "X3PmohgcLmEh",
        "colab_type": "code",
        "colab": {
          "base_uri": "https://localhost:8080/",
          "height": 134
        },
        "outputId": "e1fdd49b-c241-4174-c695-0ad2c2c9abbb"
      },
      "source": [
        "meta_learner.fit(P_base, ypred_base)"
      ],
      "execution_count": 31,
      "outputs": [
        {
          "output_type": "execute_result",
          "data": {
            "text/plain": [
              "XGBClassifier(base_score=0.5, booster='gbtree', colsample_bylevel=1,\n",
              "              colsample_bynode=1, colsample_bytree=0.8, gamma=0,\n",
              "              learning_rate=0.05, max_delta_step=0, max_depth=5,\n",
              "              min_child_weight=3, missing=None, n_estimators=150, n_jobs=1,\n",
              "              nthread=4, objective='binary:logistic', random_state=0,\n",
              "              reg_alpha=0, reg_lambda=1, scale_pos_weight=1, seed=0,\n",
              "              silent=None, subsample=0.8, verbosity=1)"
            ]
          },
          "metadata": {
            "tags": []
          },
          "execution_count": 31
        }
      ]
    },
    {
      "cell_type": "code",
      "metadata": {
        "id": "xP6XLFMiLmGx",
        "colab_type": "code",
        "colab": {}
      },
      "source": [
        "def ensemble_predict(base_learners, meta_learner, inp, verbose=True):\n",
        "    \"\"\"\n",
        "    Generate predictions from the ensemble.\n",
        "    \"\"\"\n",
        "    P_pred = predict_base_learners(base_learners, inp, verbose=verbose)\n",
        "    return P_pred, meta_learner.predict_proba(P_pred)[:, 1]"
      ],
      "execution_count": 0,
      "outputs": []
    },
    {
      "cell_type": "code",
      "metadata": {
        "id": "aKpktpfsLmLi",
        "colab_type": "code",
        "colab": {
          "base_uri": "https://localhost:8080/",
          "height": 134
        },
        "outputId": "3d7052d9-bd60-48d7-b478-6fe27fd1ab5d"
      },
      "source": [
        "P_pred, p = ensemble_predict(base_learners, meta_learner, xtest)\n",
        "print(\"\\nEnsemble ROC-AUC score: %.3f\" % roc_auc_score(ytest, p))"
      ],
      "execution_count": 33,
      "outputs": [
        {
          "output_type": "stream",
          "text": [
            "Generating base learner predictions.\n",
            "knn... done\n",
            "mlp-nn... done\n",
            "random forest... done\n",
            "gbm... done\n",
            "\n",
            "Ensemble ROC-AUC score: 0.809\n"
          ],
          "name": "stdout"
        }
      ]
    },
    {
      "cell_type": "code",
      "metadata": {
        "id": "JclpFxTaLmN-",
        "colab_type": "code",
        "colab": {}
      },
      "source": [
        "from sklearn.base import clone\n",
        "\n",
        "def stacking(base_learners, meta_learner, X, y, generator):\n",
        "    \"\"\"Simple training routine for stacking.\"\"\"\n",
        "\n",
        "    # Train final base learners for test time\n",
        "    print(\"Fitting final base learners...\", end=\"\")\n",
        "    train_base_learners(base_learners, X, y, verbose=False)\n",
        "    print(\"done\")\n",
        "\n",
        "    # Generate predictions for training meta learners\n",
        "    # Outer loop:\n",
        "    print(\"Generating cross-validated predictions...\")\n",
        "    cv_preds, cv_y = [], []\n",
        "    for i, (train_idx, test_idx) in enumerate(generator.split(X)):\n",
        "\n",
        "        fold_xtrain, fold_ytrain = X[train_idx, :], y[train_idx]\n",
        "        fold_xtest, fold_ytest = X[test_idx, :], y[test_idx]\n",
        "\n",
        "        # Inner loop: step 4 and 5\n",
        "        fold_base_learners = {name: clone(model)\n",
        "                              for name, model in base_learners.items()}\n",
        "        train_base_learners(\n",
        "            fold_base_learners, fold_xtrain, fold_ytrain, verbose=False)\n",
        "\n",
        "        fold_P_base = predict_base_learners(\n",
        "            fold_base_learners, fold_xtest, verbose=False)\n",
        "\n",
        "        cv_preds.append(fold_P_base)\n",
        "        cv_y.append(fold_ytest)\n",
        "        print(\"Fold %i done\" % (i + 1))\n",
        "\n",
        "    print(\"CV-predictions done\")\n",
        "\n",
        "    # Be careful to get rows in the right order\n",
        "    cv_preds = np.vstack(cv_preds)\n",
        "    cv_y = np.hstack(cv_y)\n",
        "\n",
        "    # Train meta learner\n",
        "    print(\"Fitting meta learner...\", end=\"\")\n",
        "    meta_learner.fit(cv_preds, cv_y)\n",
        "    print(\"done\")\n",
        "\n",
        "    return base_learners, meta_learner"
      ],
      "execution_count": 0,
      "outputs": []
    },
    {
      "cell_type": "code",
      "metadata": {
        "id": "Otc53dZ5LmQ-",
        "colab_type": "code",
        "colab": {
          "base_uri": "https://localhost:8080/",
          "height": 151
        },
        "outputId": "ff85d1de-951e-4b8d-d9af-9bc2c891dccb"
      },
      "source": [
        "from sklearn.model_selection import KFold\n",
        "\n",
        "# Train with stacking\n",
        "cv_base_learners, cv_meta_learner = stacking(\n",
        "    get_models(), clone(meta_learner), xtrain.values, ytrain.values, KFold(2))\n",
        "\n",
        "P_pred, p = ensemble_predict(cv_base_learners, cv_meta_learner, xtest, verbose=False)\n",
        "print(\"\\nEnsemble ROC-AUC score: %.3f\" % roc_auc_score(ytest, p))"
      ],
      "execution_count": 35,
      "outputs": [
        {
          "output_type": "stream",
          "text": [
            "Fitting final base learners...done\n",
            "Generating cross-validated predictions...\n",
            "Fold 1 done\n",
            "Fold 2 done\n",
            "CV-predictions done\n",
            "Fitting meta learner...done\n",
            "\n",
            "Ensemble ROC-AUC score: 0.810\n"
          ],
          "name": "stdout"
        }
      ]
    },
    {
      "cell_type": "code",
      "metadata": {
        "id": "gnURaHOKop66",
        "colab_type": "code",
        "colab": {
          "base_uri": "https://localhost:8080/",
          "height": 67
        },
        "outputId": "bac348c7-3e9b-4f80-d3b5-05e9294de366"
      },
      "source": [
        "!pip install mlens"
      ],
      "execution_count": 36,
      "outputs": [
        {
          "output_type": "stream",
          "text": [
            "Requirement already satisfied: mlens in /usr/local/lib/python3.6/dist-packages (0.2.3)\n",
            "Requirement already satisfied: scipy>=0.17 in /usr/local/lib/python3.6/dist-packages (from mlens) (1.4.1)\n",
            "Requirement already satisfied: numpy>=1.11 in /usr/local/lib/python3.6/dist-packages (from mlens) (1.18.2)\n"
          ],
          "name": "stdout"
        }
      ]
    },
    {
      "cell_type": "code",
      "metadata": {
        "id": "OILK5QzBLmJ-",
        "colab_type": "code",
        "colab": {
          "base_uri": "https://localhost:8080/",
          "height": 84
        },
        "outputId": "7f96327f-123b-4f47-97fb-863e338be6b8"
      },
      "source": [
        "from mlens.ensemble import SuperLearner\n",
        "\n",
        "# Instantiate the ensemble with 10 folds\n",
        "sl = SuperLearner(\n",
        "    folds=5,\n",
        "    random_state=SEED,\n",
        "    verbose=2,\n",
        "    backend=\"multiprocessing\"\n",
        ")\n",
        "\n",
        "# Add the base learners and the meta learner\n",
        "sl.add(list(base_learners.values()), proba=True)\n",
        "sl.add_meta(meta_learner, proba=True)\n",
        "\n",
        "# Train the ensemble\n",
        "sl.fit(xtrain, ytrain)\n",
        "\n",
        "# Predict the test set\n",
        "p_sl = sl.predict_proba(xtest)\n",
        "\n",
        "print(\"\\nSuper Learner ROC-AUC score: %.3f\" % roc_auc_score(ytest, p_sl[:, 1]))"
      ],
      "execution_count": 0,
      "outputs": [
        {
          "output_type": "stream",
          "text": [
            "\n",
            "Fitting 2 layers\n",
            "Processing layer-1             done | 00:01:30\n",
            "Processing layer-2             "
          ],
          "name": "stdout"
        }
      ]
    },
    {
      "cell_type": "code",
      "metadata": {
        "id": "wYnv66QAMmKk",
        "colab_type": "code",
        "colab": {}
      },
      "source": [
        "plot_roc_curve(ytest, p.reshape(-1, 1), P.mean(axis=1), [\"Simple average\"], \"Super Learner\")"
      ],
      "execution_count": 0,
      "outputs": []
    },
    {
      "cell_type": "code",
      "metadata": {
        "id": "FMJN4E01MvJg",
        "colab_type": "code",
        "colab": {
          "base_uri": "https://localhost:8080/",
          "height": 218
        },
        "outputId": "92d3db4c-b141-4de9-cd9e-3242fffd1de8"
      },
      "source": [
        "X_cols_to_drop = ['Unnamed: 0','session_id','startTime','endTime','ProductList', 'dataset','row_type']\n",
        "Test_X = test.drop(labels = X_cols_to_drop ,axis = 1)\n",
        "\n",
        "gender = sl.predict_proba(Test_X)\n",
        "gender"
      ],
      "execution_count": 82,
      "outputs": [
        {
          "output_type": "stream",
          "text": [
            "\n",
            "Predicting 2 layers\n",
            "Processing layer-1             done | 00:00:01\n",
            "Processing layer-2             done | 00:00:00\n",
            "Predict complete                    | 00:00:01\n"
          ],
          "name": "stdout"
        },
        {
          "output_type": "execute_result",
          "data": {
            "text/plain": [
              "array([[0.87896264, 0.12103739],\n",
              "       [0.8752924 , 0.12470756],\n",
              "       [0.91364515, 0.08635487],\n",
              "       ...,\n",
              "       [0.87289095, 0.12710905],\n",
              "       [0.3124258 , 0.6875742 ],\n",
              "       [0.8617964 , 0.13820364]], dtype=float32)"
            ]
          },
          "metadata": {
            "tags": []
          },
          "execution_count": 82
        }
      ]
    },
    {
      "cell_type": "code",
      "metadata": {
        "id": "faRneWnaNzqa",
        "colab_type": "code",
        "colab": {
          "base_uri": "https://localhost:8080/",
          "height": 0
        },
        "outputId": "5e59fbdc-4083-4392-d6a1-d3c8faec67e1"
      },
      "source": [
        "gender[:,1]"
      ],
      "execution_count": 84,
      "outputs": [
        {
          "output_type": "execute_result",
          "data": {
            "text/plain": [
              "array([0.12103739, 0.12470756, 0.08635487, ..., 0.12710905, 0.6875742 ,\n",
              "       0.13820364], dtype=float32)"
            ]
          },
          "metadata": {
            "tags": []
          },
          "execution_count": 84
        }
      ]
    },
    {
      "cell_type": "code",
      "metadata": {
        "id": "cu06ths9Nru-",
        "colab_type": "code",
        "colab": {}
      },
      "source": [
        "test['gender'] = gender[:,1]\n",
        "test['gender'] = test['gender'].apply(lambda x: 'male' if x>=0.5 else 'female')"
      ],
      "execution_count": 0,
      "outputs": []
    },
    {
      "cell_type": "code",
      "metadata": {
        "id": "pDrDtTG0OSn4",
        "colab_type": "code",
        "colab": {}
      },
      "source": [
        "output = test[['session_id', 'gender']]\n",
        "output.to_csv('output.csv')"
      ],
      "execution_count": 0,
      "outputs": []
    },
    {
      "cell_type": "markdown",
      "metadata": {
        "id": "lNls5cOZEgKt",
        "colab_type": "text"
      },
      "source": [
        "# Old section"
      ]
    },
    {
      "cell_type": "code",
      "metadata": {
        "id": "y_LIKPUWj-58",
        "colab_type": "code",
        "colab": {}
      },
      "source": [
        "def get_train_set(data):\n",
        "  Train_Y= data['gender_flag']\n",
        "  X_cols_to_drop = ['Unnamed: 0','gender_flag','gender','session_id','startTime','endTime','ProductList', 'row_type', 'dataset']\n",
        "  Train_X = data.drop(labels = X_cols_to_drop ,axis = 1)\n",
        "  #print (Train_X.columns)\n",
        "  return Train_X, Train_Y"
      ],
      "execution_count": 0,
      "outputs": []
    },
    {
      "cell_type": "code",
      "metadata": {
        "id": "_3QJto3mqz__",
        "colab_type": "code",
        "colab": {}
      },
      "source": [
        "def get_train_test_split(x, y, split):\n",
        "  \n",
        "  for train_index, test_index in sss.split(X, y):\n",
        "    #print(\"TRAIN:\", train_index, \"TEST:\", test_index)\n",
        "    X_train, X_test = X[train_index], X[test_index]\n",
        "    y_train, y_test = y[train_index], y[test_index]\n",
        "\n",
        "  return X_train, X_test, y_train, y_test"
      ],
      "execution_count": 0,
      "outputs": []
    },
    {
      "cell_type": "code",
      "metadata": {
        "id": "2BLC67BjsD9E",
        "colab_type": "code",
        "colab": {}
      },
      "source": [
        "def train_model(model, x, y):\n",
        "    model.fit(x, y)\n",
        "    return model"
      ],
      "execution_count": 0,
      "outputs": []
    },
    {
      "cell_type": "code",
      "metadata": {
        "id": "IPHIpUluwtgb",
        "colab_type": "code",
        "colab": {}
      },
      "source": [
        "def with_split_evaluation(model, X, Y, split=0):\n",
        "  if split != 0:\n",
        "    sss = StratifiedShuffleSplit(n_splits=split, test_size=0.3, random_state=0)\n",
        "    roc_train = []\n",
        "    roc_test = []\n",
        "    for train_index, test_index in sss.split(X, Y):\n",
        "      #print(\"TRAIN:\", train_index, \"TEST:\", test_index)\n",
        "      X_train, X_test = X.iloc[train_index], X.iloc[test_index]\n",
        "      y_train, y_test = Y.iloc[train_index], Y.iloc[test_index]\n",
        "\n",
        "      #print(X_train.shape, X_test.shape)\n",
        "      #print(X_train.dtypes, X_test.dtypes)\n",
        "      model.fit(X_train, y_train)\n",
        "      #Train accuracy\n",
        "      print(\"Train Accuracy: \", \"\\n\")\n",
        "      y_trn_pred = model.predict(X_train)\n",
        "      roc_auc = evaluation_metrics(y_train, y_trn_pred)\n",
        "      roc_train.append(roc_auc)\n",
        "      \n",
        "      #Test accuracy\n",
        "      y_pred = model.predict(X_test)\n",
        "      print(\"CV Accuracy: \", \"\\n\")\n",
        "\n",
        "      roc_auc = evaluation_metrics( y_test, y_pred)\n",
        "      roc_test.append(roc_auc)\n",
        "      \n",
        "      print(\"\\n\")\n",
        "    print (\"Avg. Train Roc-auc: \", np.array(roc_train).mean())\n",
        "    print (\"Avg. Test Roc-auc: \", np.array(roc_test).mean())\n",
        "\n",
        "  else:\n",
        "    model.fit( X,Y)\n",
        "    #Train accuracy\n",
        "    print(\"Train Accuracy: \", \"\\n\")\n",
        "    y_trn_pred = model.predict(X)\n",
        "    evaluation_metrics(Y, y_trn_pred)\n",
        "    print(\"\\n\")\n",
        "\n",
        "  return model"
      ],
      "execution_count": 0,
      "outputs": []
    },
    {
      "cell_type": "code",
      "metadata": {
        "id": "OvchCwjStmgN",
        "colab_type": "code",
        "colab": {}
      },
      "source": [
        "def evaluation_metrics( y_test, y_pred):\n",
        "  print(\"Accuracy:\",accuracy_score( y_test, y_pred))\n",
        "  print(\"Precision:\",precision_score(y_test, y_pred))\n",
        "  print(\"Recall:\",recall_score(y_test, y_pred))\n",
        "  print(\"F1-score:\",f1_score(y_test, y_pred))\n",
        "  print(\"rOC-auc:\",roc_auc_score(y_test, y_pred))\n",
        "  return roc_auc_score(y_test, y_pred)"
      ],
      "execution_count": 0,
      "outputs": []
    },
    {
      "cell_type": "code",
      "metadata": {
        "id": "M5NOKb7DiyfL",
        "colab_type": "code",
        "colab": {}
      },
      "source": [
        "def with_gridsearch_evaluation(model, x,y):\n",
        "  #start = time()\n",
        "  model.fit(x, y)\n",
        "  #elapse = time() - start\n",
        "  #n_iter_search = len(grid_search.cv_results_['params'])\n",
        "  #message = 'GridSearchCV took {:.2f} seconds for {} parameter settings'\n",
        "  #print(message.format(elapse, n_iter_search))\n",
        "  #report(grid_search)\n",
        "  for i in range(len(model.cv_results_['params'])):\n",
        "    print(\"{} : {}\".format(model.cv_results_['params'][i],    model.cv_results_['mean_test_score'][i]))\n",
        "\n",
        "  print(\"Params : {} \\nScore : {}\".format(model.best_params_,model.best_score_))\n",
        "  print (model.get_params)\n",
        "  return model"
      ],
      "execution_count": 0,
      "outputs": []
    },
    {
      "cell_type": "code",
      "metadata": {
        "id": "Rr5uIKux6cM9",
        "colab_type": "code",
        "colab": {}
      },
      "source": [
        ""
      ],
      "execution_count": 0,
      "outputs": []
    },
    {
      "cell_type": "code",
      "metadata": {
        "id": "6KnqawCsiorL",
        "colab_type": "code",
        "colab": {}
      },
      "source": [
        "\n",
        "def model_train_all(data, M0, M1, M2, split =5):\n",
        "  \n",
        "  #Data for M0\n",
        "  data0 = data[data['row_type']==0]\n",
        "  if len(data0) !=0:\n",
        "    X, Y = get_train_set(data0)\n",
        "    print(\"####################################################\")\n",
        "    print(Y.value_counts())\n",
        "    #model0 = with_split_evaluation(M0, X, Y, split)\n",
        "    model0 = with_gridsearch_evaluation(M0, X, Y)\n",
        "    #Print model report:\n",
        "    predictions = model0.predict(X)\n",
        "    predict_proba = model0.predict_proba(X)[:,1]\n",
        "    print (\"\\nModel Report\")\n",
        "    print (\"Accuracy : %.4g\" % accuracy_score(Y, predictions))\n",
        "    print (\"AUC Score (Train): %f\" % roc_auc_score(Y, predict_proba))\n",
        "\n",
        "  # Data for M1\n",
        "  data1 = data[data['row_type']==1]\n",
        "  if len(data1) !=0:\n",
        "    X, Y = get_train_set(data1)\n",
        "    print(\"####################################################\")\n",
        "    print(Y.value_counts())\n",
        "    #model1 = with_split_evaluation(M1, X, Y, split)\n",
        "    model1 = with_gridsearch_evaluation(M1, X, Y)\n",
        "\n",
        "    #Print model report:\n",
        "    predictions = model1.predict(X)\n",
        "    predict_proba = model1.predict_proba(X)[:,1]\n",
        "    print (\"\\nModel Report\")\n",
        "    print (\"Accuracy : %.4g\" % accuracy_score(Y, predictions))\n",
        "    print (\"AUC Score (Train): %f\" % roc_auc_score(Y, predict_proba))\n",
        "\n",
        "    \n",
        "\n",
        "  # Data for M2\n",
        "  data2 = data[data['row_type']==2]\n",
        "  if len(data2) !=0:\n",
        "    X, Y = get_train_set(data2)\n",
        "    print(\"####################################################\")\n",
        "    print(Y.value_counts())\n",
        "    #model2 = with_split_evaluation(M2, X, Y, split)\n",
        "    model2 = with_gridsearch_evaluation(M2, X, Y )\n",
        "    #Print model report:\n",
        "    predictions = model2.predict(X)\n",
        "    predict_proba = model2.predict_proba(X)[:,1]\n",
        "    print (\"\\nModel Report\")\n",
        "    print (\"Accuracy : %.4g\" % accuracy_score(Y, predictions))\n",
        "    print (\"AUC Score (Train): %f\" % roc_auc_score(Y, predict_proba))\n",
        "\n",
        "  return model0, model1, model2"
      ],
      "execution_count": 0,
      "outputs": []
    },
    {
      "cell_type": "code",
      "metadata": {
        "id": "bnALavdENslG",
        "colab_type": "code",
        "colab": {}
      },
      "source": [
        "import xgboost as xgb\n",
        "from sklearn.model_selection import GridSearchCV"
      ],
      "execution_count": 0,
      "outputs": []
    },
    {
      "cell_type": "code",
      "metadata": {
        "id": "8TGP-sGvj_0C",
        "colab_type": "code",
        "colab": {}
      },
      "source": [
        "svc = SVC(kernel='linear')\n",
        "lg = LogisticRegression(verbose=1)\n",
        "rf = RandomForestClassifier(criterion='entropy')"
      ],
      "execution_count": 0,
      "outputs": []
    },
    {
      "cell_type": "code",
      "metadata": {
        "id": "yHZZGKXBh29U",
        "colab_type": "code",
        "colab": {}
      },
      "source": [
        "\n",
        "xgb0 = xgb.XGBClassifier(\n",
        " learning_rate =0.05,\n",
        " n_estimators=1000,\n",
        " max_depth=5,\n",
        " min_child_weight=1,\n",
        " gamma=0,\n",
        " subsample=0.8,\n",
        " colsample_bytree=0.8,\n",
        " objective= 'binary:logistic',\n",
        " nthread=4,\n",
        " scale_pos_weight=1,\n",
        " seed=7)\n",
        "#modelfit(xgb1, train, predictors)\n",
        "# run grid search\n",
        "#grid_search0 = GridSearchCV(xgb0, param_grid = param_grid)\n",
        "\n",
        "\n",
        "xgb1 = xgb.XGBClassifier(\n",
        " learning_rate =0.01,\n",
        " n_estimators=150,\n",
        " max_depth=4,   # best param\n",
        " min_child_weight=3, #best param\n",
        " gamma=0,\n",
        " subsample=0.8,\n",
        " colsample_bytree=0.8,\n",
        " objective= 'binary:logistic',\n",
        " nthread=4,\n",
        " scale_pos_weight=1,\n",
        " reg_alpha = 0.5,\n",
        " seed=7)\n",
        "#modelfit(xgb1, train, predictors)\n",
        "# run grid search\n",
        "param_test1 = {\n",
        " 'reg_lambda':[1e-5, 1e-2, 0.1, 1, 100]\n",
        "}\n",
        "gsearch1 = GridSearchCV(estimator = xgb.XGBClassifier( learning_rate =0.1, n_estimators=100, max_depth=4,\n",
        " min_child_weight=3, gamma=0.266, subsample=0.8, colsample_bytree=0.85,\n",
        " objective= 'binary:logistic', nthread=4, scale_pos_weight=1, seed=27), \n",
        " param_grid = param_test1, scoring='roc_auc',n_jobs=4,iid=False, cv=5)\n",
        "#grid_search1 = GridSearchCV(xgb1, param_grid = param_grid)\n",
        "\n",
        "\n",
        "xgb2 = xgb.XGBClassifier(\n",
        " learning_rate =0.1,\n",
        " n_estimators=1000,\n",
        " max_depth=5,\n",
        " min_child_weight=3,\n",
        " gamma=0,\n",
        " subsample=0.8,\n",
        " colsample_bytree=0.8,\n",
        " objective= 'binary:logistic',\n",
        " nthread=4,\n",
        " scale_pos_weight=1,\n",
        " reg_alpha = 0.5,\n",
        " seed=7)\n",
        "#modelfit(xgb1, train, predictors)\n",
        "# run grid search\n",
        "#grid_search2 = GridSearchCV(xgb2, param_grid = param_grid)\n"
      ],
      "execution_count": 0,
      "outputs": []
    },
    {
      "cell_type": "code",
      "metadata": {
        "id": "UcZaRHQ9n4la",
        "colab_type": "code",
        "outputId": "dd138608-9439-4af2-aa26-f6323a60deae",
        "colab": {
          "base_uri": "https://localhost:8080/",
          "height": 826
        }
      },
      "source": [
        "train_1 = train[train[\"row_type\"] == 1]\n",
        "\n",
        "m0,m1,m2 = model_train_all(train_1, xgb0, gsearch1, xgb2)"
      ],
      "execution_count": 0,
      "outputs": [
        {
          "output_type": "stream",
          "text": [
            "####################################################\n",
            "0    3834\n",
            "1    1000\n",
            "Name: gender_flag, dtype: int64\n"
          ],
          "name": "stdout"
        },
        {
          "output_type": "stream",
          "text": [
            "/usr/local/lib/python3.6/dist-packages/sklearn/model_selection/_search.py:823: FutureWarning: The parameter 'iid' is deprecated in 0.22 and will be removed in 0.24.\n",
            "  \"removed in 0.24.\", FutureWarning\n"
          ],
          "name": "stderr"
        },
        {
          "output_type": "stream",
          "text": [
            "{'reg_lambda': 1e-05} : 0.8476098648220832\n",
            "{'reg_lambda': 0.01} : 0.8486538095594718\n",
            "{'reg_lambda': 0.1} : 0.8480968916908644\n",
            "{'reg_lambda': 1} : 0.8489000071486685\n",
            "{'reg_lambda': 100} : 0.8409616754776842\n",
            "Params : {'reg_lambda': 1} \n",
            "Score : 0.8489000071486685\n",
            "<bound method BaseEstimator.get_params of GridSearchCV(cv=5, error_score=nan,\n",
            "             estimator=XGBClassifier(base_score=0.5, booster='gbtree',\n",
            "                                     colsample_bylevel=1, colsample_bynode=1,\n",
            "                                     colsample_bytree=0.85, gamma=0.266,\n",
            "                                     learning_rate=0.1, max_delta_step=0,\n",
            "                                     max_depth=4, min_child_weight=3,\n",
            "                                     missing=None, n_estimators=100, n_jobs=1,\n",
            "                                     nthread=4, objective='binary:logistic',\n",
            "                                     random_state=0, reg_alpha=0, reg_lambda=1,\n",
            "                                     scale_pos_weight=1, seed=27, silent=None,\n",
            "                                     subsample=0.8, verbosity=1),\n",
            "             iid=False, n_jobs=4,\n",
            "             param_grid={'reg_lambda': [1e-05, 0.01, 0.1, 1, 100]},\n",
            "             pre_dispatch='2*n_jobs', refit=True, return_train_score=False,\n",
            "             scoring='roc_auc', verbose=0)>\n",
            "\n",
            "Model Report\n",
            "Accuracy : 0.898\n",
            "AUC Score (Train): 0.901137\n"
          ],
          "name": "stdout"
        },
        {
          "output_type": "error",
          "ename": "UnboundLocalError",
          "evalue": "ignored",
          "traceback": [
            "\u001b[0;31m---------------------------------------------------------------------------\u001b[0m",
            "\u001b[0;31mUnboundLocalError\u001b[0m                         Traceback (most recent call last)",
            "\u001b[0;32m<ipython-input-311-b0c6222aa2d4>\u001b[0m in \u001b[0;36m<module>\u001b[0;34m()\u001b[0m\n\u001b[1;32m      1\u001b[0m \u001b[0mtrain_1\u001b[0m \u001b[0;34m=\u001b[0m \u001b[0mtrain\u001b[0m\u001b[0;34m[\u001b[0m\u001b[0mtrain\u001b[0m\u001b[0;34m[\u001b[0m\u001b[0;34m\"row_type\"\u001b[0m\u001b[0;34m]\u001b[0m \u001b[0;34m==\u001b[0m \u001b[0;36m1\u001b[0m\u001b[0;34m]\u001b[0m\u001b[0;34m\u001b[0m\u001b[0;34m\u001b[0m\u001b[0m\n\u001b[1;32m      2\u001b[0m \u001b[0;34m\u001b[0m\u001b[0m\n\u001b[0;32m----> 3\u001b[0;31m \u001b[0mm0\u001b[0m\u001b[0;34m,\u001b[0m\u001b[0mm1\u001b[0m\u001b[0;34m,\u001b[0m\u001b[0mm2\u001b[0m \u001b[0;34m=\u001b[0m \u001b[0mmodel_train_all\u001b[0m\u001b[0;34m(\u001b[0m\u001b[0mtrain_1\u001b[0m\u001b[0;34m,\u001b[0m \u001b[0mxgb0\u001b[0m\u001b[0;34m,\u001b[0m \u001b[0mgsearch1\u001b[0m\u001b[0;34m,\u001b[0m \u001b[0mxgb2\u001b[0m\u001b[0;34m)\u001b[0m\u001b[0;34m\u001b[0m\u001b[0;34m\u001b[0m\u001b[0m\n\u001b[0m",
            "\u001b[0;32m<ipython-input-287-83b7c06e5eac>\u001b[0m in \u001b[0;36mmodel_train_all\u001b[0;34m(data, M0, M1, M2, split)\u001b[0m\n\u001b[1;32m     50\u001b[0m     \u001b[0mprint\u001b[0m \u001b[0;34m(\u001b[0m\u001b[0;34m\"AUC Score (Train): %f\"\u001b[0m \u001b[0;34m%\u001b[0m \u001b[0mroc_auc_score\u001b[0m\u001b[0;34m(\u001b[0m\u001b[0mY\u001b[0m\u001b[0;34m,\u001b[0m \u001b[0mpredict_proba\u001b[0m\u001b[0;34m)\u001b[0m\u001b[0;34m)\u001b[0m\u001b[0;34m\u001b[0m\u001b[0;34m\u001b[0m\u001b[0m\n\u001b[1;32m     51\u001b[0m \u001b[0;34m\u001b[0m\u001b[0m\n\u001b[0;32m---> 52\u001b[0;31m   \u001b[0;32mreturn\u001b[0m \u001b[0mmodel0\u001b[0m\u001b[0;34m,\u001b[0m \u001b[0mmodel1\u001b[0m\u001b[0;34m,\u001b[0m \u001b[0mmodel2\u001b[0m\u001b[0;34m\u001b[0m\u001b[0;34m\u001b[0m\u001b[0m\n\u001b[0m",
            "\u001b[0;31mUnboundLocalError\u001b[0m: local variable 'model0' referenced before assignment"
          ]
        }
      ]
    },
    {
      "cell_type": "code",
      "metadata": {
        "id": "iv6STNpKEBmc",
        "colab_type": "code",
        "outputId": "36bf75f3-9e73-491b-bf32-baad8ed345de",
        "colab": {
          "base_uri": "https://localhost:8080/",
          "height": 129
        }
      },
      "source": [
        "#Train_Y= data['gender_flag']\n",
        "X_cols_to_drop = ['Unnamed: 0','session_id','startTime','endTime','ProductList', 'dataset']\n",
        "Test_X = test.drop(labels = X_cols_to_drop ,axis = 1)\n",
        "pd.DataFrame([Test_X.dtypes])\n"
      ],
      "execution_count": 0,
      "outputs": [
        {
          "output_type": "execute_result",
          "data": {
            "text/html": [
              "<div>\n",
              "<style scoped>\n",
              "    .dataframe tbody tr th:only-of-type {\n",
              "        vertical-align: middle;\n",
              "    }\n",
              "\n",
              "    .dataframe tbody tr th {\n",
              "        vertical-align: top;\n",
              "    }\n",
              "\n",
              "    .dataframe thead th {\n",
              "        text-align: right;\n",
              "    }\n",
              "</style>\n",
              "<table border=\"1\" class=\"dataframe\">\n",
              "  <thead>\n",
              "    <tr style=\"text-align: right;\">\n",
              "      <th></th>\n",
              "      <th>duration</th>\n",
              "      <th>HourOfDay</th>\n",
              "      <th>cat_count</th>\n",
              "      <th>sub_cat_count</th>\n",
              "      <th>sub_sub_cat_count</th>\n",
              "      <th>prod_count</th>\n",
              "      <th>Category_A00001</th>\n",
              "      <th>Category_A00002</th>\n",
              "      <th>Category_A00003</th>\n",
              "      <th>Category_A00004</th>\n",
              "      <th>Category_A00005</th>\n",
              "      <th>Category_A00006</th>\n",
              "      <th>Category_A00007</th>\n",
              "      <th>Category_A00008</th>\n",
              "      <th>Category_A00009</th>\n",
              "      <th>Category_A00010</th>\n",
              "      <th>Category_A00011</th>\n",
              "      <th>Sub_Category_B00001</th>\n",
              "      <th>Sub_Category_B00002</th>\n",
              "      <th>Sub_Category_B00003</th>\n",
              "      <th>Sub_Category_B00004</th>\n",
              "      <th>Sub_Category_B00005</th>\n",
              "      <th>Sub_Category_B00006</th>\n",
              "      <th>Sub_Category_B00007</th>\n",
              "      <th>Sub_Category_B00008</th>\n",
              "      <th>Sub_Category_B00009</th>\n",
              "      <th>Sub_Category_B00010</th>\n",
              "      <th>Sub_Category_B00011</th>\n",
              "      <th>Sub_Category_B00012</th>\n",
              "      <th>Sub_Category_B00013</th>\n",
              "      <th>Sub_Category_B00014</th>\n",
              "      <th>Sub_Category_B00015</th>\n",
              "      <th>Sub_Category_B00016</th>\n",
              "      <th>Sub_Category_B00017</th>\n",
              "      <th>Sub_Category_B00018</th>\n",
              "      <th>Sub_Category_B00019</th>\n",
              "      <th>Sub_Category_B00020</th>\n",
              "      <th>Sub_Category_B00021</th>\n",
              "      <th>Sub_Category_B00022</th>\n",
              "      <th>Sub_Category_B00023</th>\n",
              "      <th>...</th>\n",
              "      <th>Sub_Category_B00048</th>\n",
              "      <th>Sub_Category_B00049</th>\n",
              "      <th>Sub_Category_B00050</th>\n",
              "      <th>Sub_Category_B00051</th>\n",
              "      <th>Sub_Category_B00052</th>\n",
              "      <th>Sub_Category_B00053</th>\n",
              "      <th>Sub_Category_B00054</th>\n",
              "      <th>Sub_Category_B00055</th>\n",
              "      <th>Sub_Category_B00056</th>\n",
              "      <th>Sub_Category_B00057</th>\n",
              "      <th>Sub_Category_B00058</th>\n",
              "      <th>Sub_Category_B00059</th>\n",
              "      <th>Sub_Category_B00060</th>\n",
              "      <th>Sub_Category_B00061</th>\n",
              "      <th>Sub_Category_B00062</th>\n",
              "      <th>Sub_Category_B00063</th>\n",
              "      <th>Sub_Category_B00064</th>\n",
              "      <th>Sub_Category_B00065</th>\n",
              "      <th>Sub_Category_B00066</th>\n",
              "      <th>Sub_Category_B00067</th>\n",
              "      <th>Sub_Category_B00069</th>\n",
              "      <th>Sub_Category_B00070</th>\n",
              "      <th>Sub_Category_B00071</th>\n",
              "      <th>Sub_Category_B00072</th>\n",
              "      <th>Sub_Category_B00073</th>\n",
              "      <th>Sub_Category_B00074</th>\n",
              "      <th>Sub_Category_B00075</th>\n",
              "      <th>Sub_Category_B00076</th>\n",
              "      <th>Sub_Category_B00077</th>\n",
              "      <th>Sub_Category_B00078</th>\n",
              "      <th>Sub_Category_B00079</th>\n",
              "      <th>Sub_Category_B00080</th>\n",
              "      <th>Sub_Category_B00082</th>\n",
              "      <th>Sub_Category_B00083</th>\n",
              "      <th>Sub_Category_B00085</th>\n",
              "      <th>Sub_Category_B00088</th>\n",
              "      <th>Sub_Category_B00089</th>\n",
              "      <th>Sub_Category_B00090</th>\n",
              "      <th>Sub_Category_B00091</th>\n",
              "      <th>row_type</th>\n",
              "    </tr>\n",
              "  </thead>\n",
              "  <tbody>\n",
              "    <tr>\n",
              "      <th>0</th>\n",
              "      <td>float64</td>\n",
              "      <td>int64</td>\n",
              "      <td>int64</td>\n",
              "      <td>int64</td>\n",
              "      <td>int64</td>\n",
              "      <td>int64</td>\n",
              "      <td>int64</td>\n",
              "      <td>int64</td>\n",
              "      <td>int64</td>\n",
              "      <td>int64</td>\n",
              "      <td>int64</td>\n",
              "      <td>int64</td>\n",
              "      <td>int64</td>\n",
              "      <td>int64</td>\n",
              "      <td>int64</td>\n",
              "      <td>int64</td>\n",
              "      <td>int64</td>\n",
              "      <td>int64</td>\n",
              "      <td>int64</td>\n",
              "      <td>int64</td>\n",
              "      <td>int64</td>\n",
              "      <td>int64</td>\n",
              "      <td>int64</td>\n",
              "      <td>int64</td>\n",
              "      <td>int64</td>\n",
              "      <td>int64</td>\n",
              "      <td>int64</td>\n",
              "      <td>int64</td>\n",
              "      <td>int64</td>\n",
              "      <td>int64</td>\n",
              "      <td>int64</td>\n",
              "      <td>int64</td>\n",
              "      <td>int64</td>\n",
              "      <td>int64</td>\n",
              "      <td>int64</td>\n",
              "      <td>int64</td>\n",
              "      <td>int64</td>\n",
              "      <td>int64</td>\n",
              "      <td>int64</td>\n",
              "      <td>int64</td>\n",
              "      <td>...</td>\n",
              "      <td>int64</td>\n",
              "      <td>int64</td>\n",
              "      <td>int64</td>\n",
              "      <td>int64</td>\n",
              "      <td>int64</td>\n",
              "      <td>int64</td>\n",
              "      <td>int64</td>\n",
              "      <td>int64</td>\n",
              "      <td>int64</td>\n",
              "      <td>int64</td>\n",
              "      <td>int64</td>\n",
              "      <td>int64</td>\n",
              "      <td>int64</td>\n",
              "      <td>int64</td>\n",
              "      <td>int64</td>\n",
              "      <td>int64</td>\n",
              "      <td>int64</td>\n",
              "      <td>int64</td>\n",
              "      <td>int64</td>\n",
              "      <td>int64</td>\n",
              "      <td>int64</td>\n",
              "      <td>int64</td>\n",
              "      <td>int64</td>\n",
              "      <td>int64</td>\n",
              "      <td>int64</td>\n",
              "      <td>int64</td>\n",
              "      <td>int64</td>\n",
              "      <td>int64</td>\n",
              "      <td>int64</td>\n",
              "      <td>int64</td>\n",
              "      <td>int64</td>\n",
              "      <td>int64</td>\n",
              "      <td>int64</td>\n",
              "      <td>int64</td>\n",
              "      <td>int64</td>\n",
              "      <td>int64</td>\n",
              "      <td>int64</td>\n",
              "      <td>int64</td>\n",
              "      <td>int64</td>\n",
              "      <td>int64</td>\n",
              "    </tr>\n",
              "  </tbody>\n",
              "</table>\n",
              "<p>1 rows × 104 columns</p>\n",
              "</div>"
            ],
            "text/plain": [
              "  duration HourOfDay cat_count  ... Sub_Category_B00090 Sub_Category_B00091 row_type\n",
              "0  float64     int64     int64  ...               int64               int64    int64\n",
              "\n",
              "[1 rows x 104 columns]"
            ]
          },
          "metadata": {
            "tags": []
          },
          "execution_count": 239
        }
      ]
    },
    {
      "cell_type": "code",
      "metadata": {
        "id": "Bcj6T9pY9rOd",
        "colab_type": "code",
        "colab": {}
      },
      "source": [
        "##To complete\n",
        "def select_model(row_item,cols_nm, model0, model1, model2):\n",
        "  if row_item['row_type'] == 0:\n",
        "    model = model0\n",
        "  elif row_item['row_type']  == 1:\n",
        "    model = model1\n",
        "  elif row_item['row_type']  == 2: \n",
        "    model = model2\n",
        "  item = row_item.drop('row_type')\n",
        "  #print (item.keys())\n",
        "  df_item = pd.DataFrame(data = item.values.reshape(1,-1),columns= item.keys())\n",
        "  #print (model.predict(item))\n",
        "  return model.predict(df_item)"
      ],
      "execution_count": 0,
      "outputs": []
    },
    {
      "cell_type": "code",
      "metadata": {
        "id": "3LCUy3sdcwud",
        "colab_type": "code",
        "colab": {}
      },
      "source": [
        "cols = [Test_X.columns]"
      ],
      "execution_count": 0,
      "outputs": []
    },
    {
      "cell_type": "code",
      "metadata": {
        "id": "QZg2fFNaeVVq",
        "colab_type": "code",
        "outputId": "d0a2677e-fe37-4378-bd5d-7eef50b15ed0",
        "colab": {
          "base_uri": "https://localhost:8080/",
          "height": 170
        }
      },
      "source": [
        "cols"
      ],
      "execution_count": 0,
      "outputs": [
        {
          "output_type": "execute_result",
          "data": {
            "text/plain": [
              "[Index(['duration', 'HourOfDay', 'cat_count', 'sub_cat_count',\n",
              "        'sub_sub_cat_count', 'prod_count', 'Category_A00001', 'Category_A00002',\n",
              "        'Category_A00003', 'Category_A00004',\n",
              "        ...\n",
              "        'Sub_Category_B00079', 'Sub_Category_B00080', 'Sub_Category_B00082',\n",
              "        'Sub_Category_B00083', 'Sub_Category_B00085', 'Sub_Category_B00088',\n",
              "        'Sub_Category_B00089', 'Sub_Category_B00090', 'Sub_Category_B00091',\n",
              "        'row_type'],\n",
              "       dtype='object', length=104)]"
            ]
          },
          "metadata": {
            "tags": []
          },
          "execution_count": 173
        }
      ]
    },
    {
      "cell_type": "code",
      "metadata": {
        "id": "RMFSK6U5FCmW",
        "colab_type": "code",
        "colab": {}
      },
      "source": [
        "test['gender'] = Test_X.apply(lambda row: select_model(row,cols, m0,m1,m2), axis = 1)\n",
        "test[\"gender\"] = test[\"gender\"].apply(lambda x: 'male' if x==1 else 'female')"
      ],
      "execution_count": 0,
      "outputs": []
    },
    {
      "cell_type": "code",
      "metadata": {
        "id": "u_WohPnPGeuL",
        "colab_type": "code",
        "outputId": "ac2f9828-9ae8-4d38-c506-f7bd2154679b",
        "colab": {
          "base_uri": "https://localhost:8080/",
          "height": 68
        }
      },
      "source": [
        "test.gender.value_counts()"
      ],
      "execution_count": 0,
      "outputs": [
        {
          "output_type": "execute_result",
          "data": {
            "text/plain": [
              "female    3745\n",
              "male       755\n",
              "Name: gender, dtype: int64"
            ]
          },
          "metadata": {
            "tags": []
          },
          "execution_count": 244
        }
      ]
    },
    {
      "cell_type": "code",
      "metadata": {
        "id": "35wy50zwL0eH",
        "colab_type": "code",
        "colab": {}
      },
      "source": [
        "output = test[['session_id', 'gender']]"
      ],
      "execution_count": 0,
      "outputs": []
    },
    {
      "cell_type": "code",
      "metadata": {
        "id": "q3xUawEJL9AV",
        "colab_type": "code",
        "colab": {}
      },
      "source": [
        "output.to_csv(\"output.csv\")"
      ],
      "execution_count": 0,
      "outputs": []
    },
    {
      "cell_type": "code",
      "metadata": {
        "id": "JRoGDXh4ME55",
        "colab_type": "code",
        "outputId": "16041003-5057-4cee-d8ba-af41bc4b4b65",
        "colab": {
          "base_uri": "https://localhost:8080/",
          "height": 419
        }
      },
      "source": [
        "output"
      ],
      "execution_count": 0,
      "outputs": [
        {
          "output_type": "execute_result",
          "data": {
            "text/html": [
              "<div>\n",
              "<style scoped>\n",
              "    .dataframe tbody tr th:only-of-type {\n",
              "        vertical-align: middle;\n",
              "    }\n",
              "\n",
              "    .dataframe tbody tr th {\n",
              "        vertical-align: top;\n",
              "    }\n",
              "\n",
              "    .dataframe thead th {\n",
              "        text-align: right;\n",
              "    }\n",
              "</style>\n",
              "<table border=\"1\" class=\"dataframe\">\n",
              "  <thead>\n",
              "    <tr style=\"text-align: right;\">\n",
              "      <th></th>\n",
              "      <th>session_id</th>\n",
              "      <th>gender</th>\n",
              "    </tr>\n",
              "  </thead>\n",
              "  <tbody>\n",
              "    <tr>\n",
              "      <th>0</th>\n",
              "      <td>u12112</td>\n",
              "      <td>female</td>\n",
              "    </tr>\n",
              "    <tr>\n",
              "      <th>1</th>\n",
              "      <td>u19725</td>\n",
              "      <td>female</td>\n",
              "    </tr>\n",
              "    <tr>\n",
              "      <th>2</th>\n",
              "      <td>u11795</td>\n",
              "      <td>female</td>\n",
              "    </tr>\n",
              "    <tr>\n",
              "      <th>3</th>\n",
              "      <td>u22639</td>\n",
              "      <td>female</td>\n",
              "    </tr>\n",
              "    <tr>\n",
              "      <th>4</th>\n",
              "      <td>u18034</td>\n",
              "      <td>female</td>\n",
              "    </tr>\n",
              "    <tr>\n",
              "      <th>...</th>\n",
              "      <td>...</td>\n",
              "      <td>...</td>\n",
              "    </tr>\n",
              "    <tr>\n",
              "      <th>4495</th>\n",
              "      <td>u23966</td>\n",
              "      <td>male</td>\n",
              "    </tr>\n",
              "    <tr>\n",
              "      <th>4496</th>\n",
              "      <td>u20527</td>\n",
              "      <td>female</td>\n",
              "    </tr>\n",
              "    <tr>\n",
              "      <th>4497</th>\n",
              "      <td>u13253</td>\n",
              "      <td>female</td>\n",
              "    </tr>\n",
              "    <tr>\n",
              "      <th>4498</th>\n",
              "      <td>u17094</td>\n",
              "      <td>male</td>\n",
              "    </tr>\n",
              "    <tr>\n",
              "      <th>4499</th>\n",
              "      <td>u24310</td>\n",
              "      <td>female</td>\n",
              "    </tr>\n",
              "  </tbody>\n",
              "</table>\n",
              "<p>4500 rows × 2 columns</p>\n",
              "</div>"
            ],
            "text/plain": [
              "     session_id  gender\n",
              "0        u12112  female\n",
              "1        u19725  female\n",
              "2        u11795  female\n",
              "3        u22639  female\n",
              "4        u18034  female\n",
              "...         ...     ...\n",
              "4495     u23966    male\n",
              "4496     u20527  female\n",
              "4497     u13253  female\n",
              "4498     u17094    male\n",
              "4499     u24310  female\n",
              "\n",
              "[4500 rows x 2 columns]"
            ]
          },
          "metadata": {
            "tags": []
          },
          "execution_count": 246
        }
      ]
    },
    {
      "cell_type": "markdown",
      "metadata": {
        "id": "Y-OWBow2OKxC",
        "colab_type": "text"
      },
      "source": [
        "XGBoost"
      ]
    },
    {
      "cell_type": "code",
      "metadata": {
        "id": "jQsICczuOJ0c",
        "colab_type": "code",
        "colab": {}
      },
      "source": [
        "import xgboost as xgb"
      ],
      "execution_count": 0,
      "outputs": []
    },
    {
      "cell_type": "code",
      "metadata": {
        "id": "F3QczoeeOJxz",
        "colab_type": "code",
        "colab": {}
      },
      "source": [
        "xgb_clf = xgb.XGBClassifier()"
      ],
      "execution_count": 0,
      "outputs": []
    },
    {
      "cell_type": "code",
      "metadata": {
        "id": "XV8kRy5FOJpO",
        "colab_type": "code",
        "colab": {}
      },
      "source": [
        "xgb_clf.fit()"
      ],
      "execution_count": 0,
      "outputs": []
    },
    {
      "cell_type": "code",
      "metadata": {
        "id": "WIlKuECJMfQj",
        "colab_type": "code",
        "colab": {}
      },
      "source": [
        ""
      ],
      "execution_count": 0,
      "outputs": []
    }
  ]
}